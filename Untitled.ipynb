{
 "cells": [
  {
   "cell_type": "code",
   "execution_count": 9,
   "id": "c0f7c5f9",
   "metadata": {},
   "outputs": [
    {
     "ename": "TypeError",
     "evalue": "'module' object is not callable",
     "output_type": "error",
     "traceback": [
      "\u001b[1;31m---------------------------------------------------------------------------\u001b[0m",
      "\u001b[1;31mTypeError\u001b[0m                                 Traceback (most recent call last)",
      "Input \u001b[1;32mIn [9]\u001b[0m, in \u001b[0;36m<module>\u001b[1;34m\u001b[0m\n\u001b[0;32m      7\u001b[0m df \n\u001b[0;32m      9\u001b[0m \u001b[38;5;66;03m#a = df['B'].to_numpy()\u001b[39;00m\n\u001b[0;32m     10\u001b[0m \u001b[38;5;66;03m##b = df['C'].to_numpy()\u001b[39;00m\n\u001b[0;32m     11\u001b[0m \u001b[38;5;66;03m#st.ttest_ind(a = a, b = b, equal_var = False)\u001b[39;00m\n\u001b[1;32m---> 13\u001b[0m res \u001b[38;5;241m=\u001b[39m \u001b[43mst\u001b[49m\u001b[43m(\u001b[49m\u001b[43m)\u001b[49m\n\u001b[0;32m     14\u001b[0m res\u001b[38;5;241m.\u001b[39mttest(df\u001b[38;5;241m=\u001b[39mdf , res\u001b[38;5;241m=\u001b[39m[\u001b[38;5;124m'\u001b[39m\u001b[38;5;124mB\u001b[39m\u001b[38;5;124m'\u001b[39m,\u001b[38;5;124m'\u001b[39m\u001b[38;5;124mC\u001b[39m\u001b[38;5;124m'\u001b[39m], test_type\u001b[38;5;241m=\u001b[39m\u001b[38;5;241m3\u001b[39m)\n",
      "\u001b[1;31mTypeError\u001b[0m: 'module' object is not callable"
     ]
    }
   ],
   "source": [
    "# using scipy\n",
    "from scipy import stats as st\n",
    "from bioinfokit.analys import get_data\n",
    "import pandas as pd\n",
    "\n",
    "df= pd.read_csv(\"ttest.csv\") \n",
    "df \n",
    "\n",
    "#a = df['B'].to_numpy()\n",
    "##b = df['C'].to_numpy()\n",
    "#st.ttest_ind(a = a, b = b, equal_var = False)\n",
    "\n",
    "res = st()\n",
    "res.ttest(df=df , res=['B','C'], test_type=3)\n"
   ]
  },
  {
   "cell_type": "code",
   "execution_count": null,
   "id": "a5c576c1",
   "metadata": {},
   "outputs": [],
   "source": []
  },
  {
   "cell_type": "code",
   "execution_count": null,
   "id": "40e1bbb4",
   "metadata": {},
   "outputs": [],
   "source": []
  },
  {
   "cell_type": "code",
   "execution_count": null,
   "id": "87b74e27",
   "metadata": {},
   "outputs": [],
   "source": []
  }
 ],
 "metadata": {
  "kernelspec": {
   "display_name": "Python 3 (ipykernel)",
   "language": "python",
   "name": "python3"
  },
  "language_info": {
   "codemirror_mode": {
    "name": "ipython",
    "version": 3
   },
   "file_extension": ".py",
   "mimetype": "text/x-python",
   "name": "python",
   "nbconvert_exporter": "python",
   "pygments_lexer": "ipython3",
   "version": "3.9.10"
  }
 },
 "nbformat": 4,
 "nbformat_minor": 5
}
