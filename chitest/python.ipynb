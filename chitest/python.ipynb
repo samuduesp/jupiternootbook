{
 "cells": [
  {
   "cell_type": "code",
   "execution_count": 7,
   "id": "ffcfadc5",
   "metadata": {},
   "outputs": [
    {
     "name": "stdout",
     "output_type": "stream",
     "text": [
      "\n",
      "Chi-squared test for independence\n",
      "\n",
      "Test              Df    Chi-square      P-value\n",
      "--------------  ----  ------------  -----------\n",
      "Pearson            2       54.2813  1.63289e-12\n",
      "Log-likelihood     2       55.2513  1.00539e-12\n",
      "\n"
     ]
    }
   ],
   "source": [
    "from bioinfokit.analys import get_data, stat\n",
    "import pandas as pd\n",
    "\n",
    "df=pd.read_csv(\"chitest_sample.csv\") \n",
    "df\n",
    "df = df.set_index('label')\n",
    "\n",
    "#run chi_squre test for independency\n",
    "res = stat()\n",
    "res.chisq(df=df)\n",
    "print(res.summary)\n",
    "\n"
   ]
  },
  {
   "cell_type": "code",
   "execution_count": null,
   "id": "cfa9955a",
   "metadata": {},
   "outputs": [],
   "source": []
  },
  {
   "cell_type": "code",
   "execution_count": null,
   "id": "f4a81b71",
   "metadata": {},
   "outputs": [],
   "source": []
  }
 ],
 "metadata": {
  "kernelspec": {
   "display_name": "Python 3 (ipykernel)",
   "language": "python",
   "name": "python3"
  },
  "language_info": {
   "codemirror_mode": {
    "name": "ipython",
    "version": 3
   },
   "file_extension": ".py",
   "mimetype": "text/x-python",
   "name": "python",
   "nbconvert_exporter": "python",
   "pygments_lexer": "ipython3",
   "version": "3.9.10"
  }
 },
 "nbformat": 4,
 "nbformat_minor": 5
}
